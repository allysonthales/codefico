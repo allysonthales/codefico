{
  "nbformat": 4,
  "nbformat_minor": 0,
  "metadata": {
    "colab": {
      "provenance": []
    },
    "kernelspec": {
      "name": "python3",
      "display_name": "Python 3"
    },
    "language_info": {
      "name": "python"
    }
  },
  "cells": [
    {
      "cell_type": "markdown",
      "source": [
        "# Resumo\n",
        "\n",
        "- O conceito de repeticão ou laco (em ingles, loop)  e usado para realizar tarefas de forma repetitiva, ou seja, executar uma serie de comandos um determinado numero de vezes ou enquanto uma dada condicao for verdadeira.\n",
        "\n",
        "- O primeiro recurso que veremos em Python para implementar lacos é o while, que serve para realizar um conjunto de tarefas enquanto uma dada condicao for verdadeira. While eh um termo do ingles que significa enquanto.\n",
        "\n",
        "- Como mostrado abaixo, a sintaxe do comando while envolve a definicao de uma condicao que, enquanto verdadeira, determinar a repeticao e execucao do bloco de comandos (no exemplo, composto pelas linhas 4 e 5, devido a indentacao).\n"
      ],
      "metadata": {
        "id": "hsB4Bo4jhTEg"
      }
    },
    {
      "cell_type": "markdown",
      "source": [
        "# Conteudo auxiliar\n",
        "- Para gerar números aleatórios em Python, você pode utilizar a função randint do módulo random. Essa função permite gerar um número inteiro aleatório dentro de um intervalo específico.\n",
        "- Para utilizá-la, é necessário importar o módulo random no início do seu programa.\n",
        "-Após importar o módulo random, você pode utilizar a função randint da seguinte forma para gerar um número aleatório entre dois valores, digamos a e b:"
      ],
      "metadata": {
        "id": "7UIMCyNXqtJ-"
      }
    },
    {
      "cell_type": "code",
      "source": [
        "import random\n",
        "numero_aleatorio = random.randint(0, 100)\n",
        "\n",
        "print(f'{numero_aleatorio}')\n",
        "\n",
        "\n",
        "\n",
        "\n",
        "\n"
      ],
      "metadata": {
        "id": "WBOl2aRBq9b0",
        "colab": {
          "base_uri": "https://localhost:8080/"
        },
        "outputId": "baaf9597-3816-4efb-b0ad-2395d9305712"
      },
      "execution_count": null,
      "outputs": [
        {
          "output_type": "stream",
          "name": "stdout",
          "text": [
            "3\n"
          ]
        }
      ]
    },
    {
      "cell_type": "markdown",
      "source": [
        "# Exercicios\n",
        "## Questão 1:\n",
        "\n",
        "**Descrição**: Escreva um programa que receba um número inteiro do usuário e calcule a soma de todos os números inteiros de 1 até o número digitado.\n",
        "\n",
        "**Exemplo de execução 1:**\n",
        "\n",
        "Digite um número inteiro: 5<br>A soma de todos os números inteiros até 5 é 15.\n",
        "\n",
        "**Exemplo de execução 2:**\n",
        "\n",
        "Digite um número inteiro: 10<br>A soma de todos os números inteiros até 10 é 55.\n",
        "\n",
        "**Exemplo de execução 3:**\n",
        "\n",
        "Digite um número inteiro: 1\n",
        "<br>A soma de todos os números inteiros até 1 é 1."
      ],
      "metadata": {
        "id": "9e8LIQTAidva"
      }
    },
    {
      "cell_type": "code",
      "source": [
        "numero = int(input('Digite um número inteiro: '))\n",
        "\n",
        "cont = 0\n",
        "res = 0\n",
        "while cont <= numero:\n",
        "  res = res + cont\n",
        "  cont = cont + 1\n",
        "\n",
        "print(f'A soma de todos os números inteiros até {numero} é: {res}')"
      ],
      "metadata": {
        "id": "JSQ2WUs0hXHB",
        "outputId": "aed93da0-fc9e-4cae-b044-d102262b4d2a",
        "colab": {
          "base_uri": "https://localhost:8080/"
        }
      },
      "execution_count": null,
      "outputs": [
        {
          "output_type": "stream",
          "name": "stdout",
          "text": [
            "Digite um número inteiro: 1\n",
            "A soma de todos os números inteiros até 1 é: 1\n"
          ]
        }
      ]
    },
    {
      "cell_type": "markdown",
      "source": [
        "## Questão 2:\n",
        "Você foi contratado por uma empresa química que precisa resolver algumas fórmulas matemáticas para desenvolver produtos químicos. Você foi o escolhido para encontrar o fatorial de um número. Calcular o fatorial de um número só faz sentido quando estamos trabalhando com números naturais. Essa operação é bastante comum na análise combinatória, facilitando o cálculo de arranjos, permutações, combinações e demais problemas envolvendo contagem. O fatorial é representado pelo símbolo \"!\". Definimos como n! (n fatorial) a multiplicação sucessiva de n por todos os seus antecessores até chegar em 1. A equação do fatorial pode ser definida como: n! = n × (n − 1) × (n − 2) × ... × 3 × 2 × 1. Observe que o número definido é sempre inteiro, mas o programa \"força\" a entrada de um número maior do que 0 (zero).\n",
        "\n",
        "**Exemplo de execução 1:**\n",
        "\n",
        "Informe o número que deseja calcular o Fatorial: -2<br>Número inválido, defina outro: 4<br>\n",
        "O Fatorial de 4 é: 24\n",
        "\n",
        "**Exemplo de execução 2:**\n",
        "\n",
        "Informe o número que deseja calcular o Fatorial: -5<br>\n",
        "Número inválido, defina outro: -2<br>\n",
        "Número inválido, defina outro: 0<br>\n",
        "Número inválido, defina outro: 6<br>\n",
        "O Fatorial de 6 é: 720\n",
        "\n",
        "**Exemplo de execução 3:**\n",
        "\n",
        "Informe o número que deseja calcular o Fatorial: 7<br>\n",
        "O Fatorial de 7 é: 5040\n",
        "\n"
      ],
      "metadata": {
        "id": "0XDuA0pdlMI5"
      }
    },
    {
      "cell_type": "code",
      "source": [
        "n = int(input('Informe o número que desea calcular o Fatorial: '))\n",
        "res = 0\n",
        "while n < 0:\n",
        "  n = int(input('Número inválido, defina outro: '))\n",
        "numero = n\n",
        "res = n\n",
        "while n > 1:\n",
        "  n = n - 1\n",
        "  res = res * n\n",
        "\n",
        "print(f'O fatorial de {numero} é: {res}')"
      ],
      "metadata": {
        "id": "neKUL9NZljJd",
        "outputId": "a0aa60a7-df24-434a-8822-58e1cfe43dfa",
        "colab": {
          "base_uri": "https://localhost:8080/"
        }
      },
      "execution_count": null,
      "outputs": [
        {
          "output_type": "stream",
          "name": "stdout",
          "text": [
            "Informe o número que desea calcular o Fatorial: 7\n",
            "O fatorial de 7 é: 5040\n"
          ]
        }
      ]
    },
    {
      "cell_type": "markdown",
      "source": [
        "## Questão 3:\n",
        "Descrição: Você foi contratado por uma empresa financeira que realiza empréstimos com cobrança de juros simples. O cálculo dos juros é realizado da seguinte forma: J = C × t × m, onde J é o valor dos juros devido, C é o capital emprestado, t é a taxa de juros do período e m é a quantidade de meses para quitação da dívida. A taxa de juros depende do capital emprestado: para valores menores ou iguais a R\\$ 10.000,00, a taxa de juros é de 10% ao mês (ou seja, t = 0,1), enquanto para valores maiores do que R\\$ 10.000,00, a taxa de juros é de 7% ao mês (ou seja, t = 0,07).\n",
        "\n",
        "Implemente um programa que receba inicialmente o valor do capital total (T, em reais) que você possui para fazer empréstimos. Em seguida, você realizará empréstimos enquanto tiver capital total suficiente. A cada empréstimo realizado, você receberá duas entradas: C (em reais) e m (inteiro), e determinará a taxa de juros t, levando em consideração o valor do capital emprestado. Em seguida, calcule o valor de juros devido (J) e imprima a taxa de juros aplicada (valor percentual, com 0 casas decimais), o juros devido calculado (J, com 2 casas decimais) e o valor total da dívida (soma do capital emprestado e os juros devidos, também com 2 casas decimais). Após cada empréstimo, atualize seu capital total (T = T - C). O programa encerrará quando o valor do capital total T for insuficiente para fornecer o empréstimo solicitado C, e imprimirá uma mensagem de encerramento com o capital total final (com duas casas decimais). Nesse caso, o empréstimo será negado, o valor de m não será solicitado e o programa será encerrado.\n",
        "\n",
        "**Exemplo de execução 1:**\n",
        "\n",
        "Forneça o capital Total para empréstimo: 10000<br>\n",
        "Forneça o capital emprestado: 20000<br>\n",
        "Empréstimo negado, capital total é de R$ 10000.00.<br>\n",
        "\n",
        "**Exemplo de execução 2:**\n",
        "\n",
        "Forneça o capital Total para empréstimo: 20000<br>\n",
        "Forneça o capital emprestado: 9001<br>\n",
        "Forneça a quantidade de meses para quitação: 4<br>\n",
        "Taxa de juros aplicada: 10%.<br>\n",
        "Juros devido: 3600.40.<br>\n",
        "Valor total: 12601.40.<br>\n",
        "Forneça o capital emprestado: 10104<br>\n",
        "Forneça a quantidade de meses para quitação: 3<br>\n",
        "Taxa de juros aplicada: 7%.<br>\n",
        "Juros devido: 2121.84.<br>\n",
        "Valor total: 12225.84.<br>\n",
        "Forneça o capital emprestado: 5643<br>\n",
        "Empréstimo negado, capital total é de R$ 895.00.\n",
        "\n",
        "**Exemplo de execução 3:**\n",
        "\n",
        "Forneça o capital Total para empréstimo: 1250<br>\n",
        "Forneça o capital emprestado: 1250<br>\n",
        "Forneça a quantidade de meses para quitação: 5<br>\n",
        "Taxa de juros aplicada: 10%.<br>\n",
        "Juros devido: 625.00.<br>\n",
        "Valor total: 1875.00.<br>\n",
        "Forneça o capital emprestado: 1<br>\n",
        "Empréstimo negado, capital total é de R$ 0.00.\n"
      ],
      "metadata": {
        "id": "W_TW0LgSmEqA"
      }
    },
    {
      "cell_type": "code",
      "source": [
        "dinheiroTotal =  int(input('Forneça o capital Total para empréstimo: '))\n",
        "\n",
        "while True:\n",
        "  emprestimo = int(input('Forneça o capital emprestado: '))\n",
        "  if dinheiroTotal - emprestimo < 0:\n",
        "    print(f'Emprestimo negado, capital total é de: R${dinheiroTotal:.2f}')\n",
        "    break\n",
        "  else:\n",
        "    m = int(input('Forneça a quantidade de meses para quitação: '))\n",
        "\n",
        "    if emprestimo <= 10000:\n",
        "      juros = 0.1\n",
        "    else:\n",
        "      juros = 0.07\n",
        "\n",
        "    print(f'Taxa de uros aplicada: {(juros * 100):.0f}%')\n",
        "\n",
        "    total = emprestimo * juros * m\n",
        "    print(f'Juros devido: {total}')\n",
        "    print(f'Valor total: {emprestimo + total}')\n",
        "    dinheiroTotal = dinheiroTotal - emprestimo"
      ],
      "metadata": {
        "id": "jZ3oaALenG07",
        "outputId": "e0010b5d-9f15-4d44-f13f-cb5d99400c64",
        "colab": {
          "base_uri": "https://localhost:8080/",
          "height": 484
        }
      },
      "execution_count": null,
      "outputs": [
        {
          "output_type": "stream",
          "name": "stdout",
          "text": [
            "Forneça o capital Total para empréstimo: 3333333\n",
            "Forneça o capital emprestado: 333333\n",
            "Forneça a quantidade de meses para quitação: 4\n",
            "Taxa de uros aplicada: 7%\n",
            "Juros devido: 93333.24\n",
            "Valor total: 426666.24\n"
          ]
        },
        {
          "output_type": "error",
          "ename": "KeyboardInterrupt",
          "evalue": "ignored",
          "traceback": [
            "\u001b[0;31m---------------------------------------------------------------------------\u001b[0m",
            "\u001b[0;31mKeyboardInterrupt\u001b[0m                         Traceback (most recent call last)",
            "\u001b[0;32m<ipython-input-23-4c1681077e31>\u001b[0m in \u001b[0;36m<cell line: 3>\u001b[0;34m()\u001b[0m\n\u001b[1;32m      2\u001b[0m \u001b[0;34m\u001b[0m\u001b[0m\n\u001b[1;32m      3\u001b[0m \u001b[0;32mwhile\u001b[0m \u001b[0;32mTrue\u001b[0m\u001b[0;34m:\u001b[0m\u001b[0;34m\u001b[0m\u001b[0;34m\u001b[0m\u001b[0m\n\u001b[0;32m----> 4\u001b[0;31m   \u001b[0memprestimo\u001b[0m \u001b[0;34m=\u001b[0m \u001b[0mint\u001b[0m\u001b[0;34m(\u001b[0m\u001b[0minput\u001b[0m\u001b[0;34m(\u001b[0m\u001b[0;34m'Forneça o capital emprestado: '\u001b[0m\u001b[0;34m)\u001b[0m\u001b[0;34m)\u001b[0m\u001b[0;34m\u001b[0m\u001b[0;34m\u001b[0m\u001b[0m\n\u001b[0m\u001b[1;32m      5\u001b[0m   \u001b[0;32mif\u001b[0m \u001b[0mdinheiroTotal\u001b[0m \u001b[0;34m-\u001b[0m \u001b[0memprestimo\u001b[0m \u001b[0;34m<\u001b[0m \u001b[0;36m0\u001b[0m\u001b[0;34m:\u001b[0m\u001b[0;34m\u001b[0m\u001b[0;34m\u001b[0m\u001b[0m\n\u001b[1;32m      6\u001b[0m     \u001b[0mprint\u001b[0m\u001b[0;34m(\u001b[0m\u001b[0;34mf'Emprestimo negado, capital total é de: R${dinheiroTotal:.2f}'\u001b[0m\u001b[0;34m)\u001b[0m\u001b[0;34m\u001b[0m\u001b[0;34m\u001b[0m\u001b[0m\n",
            "\u001b[0;32m/usr/local/lib/python3.10/dist-packages/ipykernel/kernelbase.py\u001b[0m in \u001b[0;36mraw_input\u001b[0;34m(self, prompt)\u001b[0m\n\u001b[1;32m    849\u001b[0m                 \u001b[0;34m\"raw_input was called, but this frontend does not support input requests.\"\u001b[0m\u001b[0;34m\u001b[0m\u001b[0;34m\u001b[0m\u001b[0m\n\u001b[1;32m    850\u001b[0m             )\n\u001b[0;32m--> 851\u001b[0;31m         return self._input_request(str(prompt),\n\u001b[0m\u001b[1;32m    852\u001b[0m             \u001b[0mself\u001b[0m\u001b[0;34m.\u001b[0m\u001b[0m_parent_ident\u001b[0m\u001b[0;34m,\u001b[0m\u001b[0;34m\u001b[0m\u001b[0;34m\u001b[0m\u001b[0m\n\u001b[1;32m    853\u001b[0m             \u001b[0mself\u001b[0m\u001b[0;34m.\u001b[0m\u001b[0m_parent_header\u001b[0m\u001b[0;34m,\u001b[0m\u001b[0;34m\u001b[0m\u001b[0;34m\u001b[0m\u001b[0m\n",
            "\u001b[0;32m/usr/local/lib/python3.10/dist-packages/ipykernel/kernelbase.py\u001b[0m in \u001b[0;36m_input_request\u001b[0;34m(self, prompt, ident, parent, password)\u001b[0m\n\u001b[1;32m    893\u001b[0m             \u001b[0;32mexcept\u001b[0m \u001b[0mKeyboardInterrupt\u001b[0m\u001b[0;34m:\u001b[0m\u001b[0;34m\u001b[0m\u001b[0;34m\u001b[0m\u001b[0m\n\u001b[1;32m    894\u001b[0m                 \u001b[0;31m# re-raise KeyboardInterrupt, to truncate traceback\u001b[0m\u001b[0;34m\u001b[0m\u001b[0;34m\u001b[0m\u001b[0m\n\u001b[0;32m--> 895\u001b[0;31m                 \u001b[0;32mraise\u001b[0m \u001b[0mKeyboardInterrupt\u001b[0m\u001b[0;34m(\u001b[0m\u001b[0;34m\"Interrupted by user\"\u001b[0m\u001b[0;34m)\u001b[0m \u001b[0;32mfrom\u001b[0m \u001b[0;32mNone\u001b[0m\u001b[0;34m\u001b[0m\u001b[0;34m\u001b[0m\u001b[0m\n\u001b[0m\u001b[1;32m    896\u001b[0m             \u001b[0;32mexcept\u001b[0m \u001b[0mException\u001b[0m \u001b[0;32mas\u001b[0m \u001b[0me\u001b[0m\u001b[0;34m:\u001b[0m\u001b[0;34m\u001b[0m\u001b[0;34m\u001b[0m\u001b[0m\n\u001b[1;32m    897\u001b[0m                 \u001b[0mself\u001b[0m\u001b[0;34m.\u001b[0m\u001b[0mlog\u001b[0m\u001b[0;34m.\u001b[0m\u001b[0mwarning\u001b[0m\u001b[0;34m(\u001b[0m\u001b[0;34m\"Invalid Message:\"\u001b[0m\u001b[0;34m,\u001b[0m \u001b[0mexc_info\u001b[0m\u001b[0;34m=\u001b[0m\u001b[0;32mTrue\u001b[0m\u001b[0;34m)\u001b[0m\u001b[0;34m\u001b[0m\u001b[0;34m\u001b[0m\u001b[0m\n",
            "\u001b[0;31mKeyboardInterrupt\u001b[0m: Interrupted by user"
          ]
        }
      ]
    },
    {
      "cell_type": "markdown",
      "source": [
        "## Questão 4: Adivinhe o número!\n",
        "Escreva um programa em Python que gere um número inteiro aleatório entre 1 e 100 e desafie o usuário a adivinhar esse número. O programa deve fornecer dicas ao usuário, informando se o número que ele digitou é maior ou menor do que o número a ser adivinhado. O programa deve continuar executando até que o usuário acerte o número. Ao final, exiba a quantidade de tentativas que o usuário fez para acertar.\n",
        "\n",
        "**Exemplo de execução:**\n",
        "\n",
        "Bem-vindo ao jogo de adivinhar o número!<br>\n",
        "Tente adivinhar qual número eu estou pensando (entre 1 e 100).<br>\n",
        "Digite o seu palpite: 50<br>\n",
        "O número que estou pensando é maior do que 50. Tente novamente.<br>\n",
        "\n",
        "Digite o seu palpite: 75<br>\n",
        "O número que estou pensando é menor do que 75. Tente novamente.<br>\n",
        "\n",
        "Digite o seu palpite: 63<br>\n",
        "Parabéns! Você acertou o número em 3 tentativas"
      ],
      "metadata": {
        "id": "w5AfHh6NpxLM"
      }
    },
    {
      "cell_type": "code",
      "source": [
        "import random\n",
        "\n",
        "numero = random.randint(0, 100)\n",
        "acertou = False\n",
        "contador = 1\n",
        "\n",
        "print('Bem-vindo ao jogo de adivinhar o número!')\n",
        "print('Tente adivinhar qual número estou pensando (entre 1 e 100).')\n",
        "\n",
        "while acertou == False:\n",
        "  tentativa = int(input('Digite o seu palpite: '))\n",
        "\n",
        "  if tentativa == numero:\n",
        "    print(f'Parabéns! Você acertou o número em {contador} tentativa(s)')\n",
        "    acertou = True\n",
        "  elif tentativa < numero:\n",
        "    print(f'O número que estou pensando é maior do que {tentativa}. Tente novamente')\n",
        "  elif tentativa > numero:\n",
        "    print(f'O número que estou pensando é menor do que {tentativa}. Tente novamente')\n",
        "\n",
        "  contador = contador + 1\n",
        "\n"
      ],
      "metadata": {
        "id": "ehAb-m9cqeBV",
        "colab": {
          "base_uri": "https://localhost:8080/"
        },
        "outputId": "767a51a9-ae82-47a5-b0ed-01b34257eda1"
      },
      "execution_count": null,
      "outputs": [
        {
          "output_type": "stream",
          "name": "stdout",
          "text": [
            "Bem-vindo ao jogo de adivinhar o número!\n",
            "Tente adivinhar qual número estou pensando (entre 1 e 100).\n",
            "Digite o seu palpite: 50\n",
            "O número que estou pensando é maior do que 50. Tente novamente\n",
            "Digite o seu palpite: 75\n",
            "O número que estou pensando é maior do que 75. Tente novamente\n",
            "Digite o seu palpite: 90\n",
            "O número que estou pensando é menor do que 90. Tente novamente\n",
            "Digite o seu palpite: 80\n",
            "Parabéns! Você acertou o número em 4 tentativa(s)\n"
          ]
        }
      ]
    },
    {
      "cell_type": "markdown",
      "source": [
        "## Questão 5: Contagem regressiva animada\n",
        "Escreva um programa em Python que utilize o comando while para exibir uma contagem regressiva animada. O programa deve solicitar ao usuário quantos segundos deseja na contagem regressiva e, em seguida, iniciar a contagem regressiva a partir desse valor, exibindo cada número na tela e aguardando um segundo entre cada número.\n",
        "\n",
        "**Exemplo de execução:**\n",
        "\n",
        "Quantos segundos deseja na contagem regressiva? 5<br>\n",
        "Iniciando contagem regressiva...<br>\n",
        "5<br>\n",
        "4<br>\n",
        "3<br>\n",
        "2<br>\n",
        "1<br>\n",
        "Boom! FELIZ ANO NOVO!"
      ],
      "metadata": {
        "id": "E_ca4PS7pzaT"
      }
    },
    {
      "cell_type": "code",
      "source": [
        "import time\n",
        "\n",
        "segundos = int(input('Quantos segundos desea na contagem regressiva? '))\n",
        "\n",
        "while segundos > 0:\n",
        "  print(f'{segundos}')\n",
        "  segundos = segundos - 1\n",
        "  time.sleep(1)\n",
        "\n",
        "print('Boom! FELIZ ANO NOVO!')"
      ],
      "metadata": {
        "id": "F_2Dw5RupkuO",
        "outputId": "6ad92110-db2e-4e34-f8fd-356eaced9aa3",
        "colab": {
          "base_uri": "https://localhost:8080/"
        }
      },
      "execution_count": null,
      "outputs": [
        {
          "output_type": "stream",
          "name": "stdout",
          "text": [
            "Quantos segundos desea na contagem regressiva? 5\n",
            "5\n",
            "4\n",
            "3\n",
            "2\n",
            "1\n",
            "Boom! FELIZ ANO NOVO!\n"
          ]
        }
      ]
    }
  ]
}