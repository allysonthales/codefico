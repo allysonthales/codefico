{
  "nbformat": 4,
  "nbformat_minor": 0,
  "metadata": {
    "colab": {
      "provenance": []
    },
    "kernelspec": {
      "name": "python3",
      "display_name": "Python 3"
    },
    "language_info": {
      "name": "python"
    }
  },
  "cells": [
    {
      "cell_type": "markdown",
      "source": [
        "## Conteudo complementar\n",
        "O MMC (Mínimo Múltiplo Comum) é um conceito matemático utilizado para determinar o menor múltiplo comum de dois ou mais números inteiros. É o menor número inteiro positivo que é divisível por todos os números dados.\n",
        "\n",
        "Para calcular o MMC de dois números, é necessário encontrar os múltiplos de cada número até encontrar o primeiro múltiplo comum entre eles. O menor múltiplo comum será o resultado desse cálculo.\n",
        "\n",
        "Por exemplo, vamos calcular o MMC de 4 e 6:\n",
        "\n",
        "Múltiplos de 4: 4, 8, 12, 16, 20, 24, ...\n",
        "Múltiplos de 6: 6, 12, 18, 24, 30, ...\n",
        "Podemos ver que o primeiro múltiplo comum entre 4 e 6 é 12. Portanto, o MMC de 4 e 6 é 12.\n",
        "\n",
        "O MMC é útil em diversas áreas, especialmente em problemas que envolvem frações, divisão de números inteiros ou situações em que é necessário encontrar um valor comum para múltiplos diferentes."
      ],
      "metadata": {
        "id": "-QZMxv6SIvSs"
      }
    },
    {
      "cell_type": "markdown",
      "source": [
        "## Questão 1\n",
        "Faça um programa que calcule a multiplicação de dois números utilizando apenas a operação de soma.\n",
        "\n",
        "### Exemplo de execução 1:\n",
        "Digite o primeiro número: 8<br/>\n",
        "Digite o segundo número: 12<br/>\n",
        "A multiplicação de 8 por 12 é: 96<br/>"
      ],
      "metadata": {
        "id": "m8d4zNPLwFAC"
      }
    },
    {
      "cell_type": "code",
      "source": [
        "n1 = int(input('Digite o primeiro número: '))\n",
        "n2 = int(input('Digite o segundo número: '))\n",
        "\n",
        "res = 0\n",
        "cont = 0\n",
        "\n",
        "while cont < n2:\n",
        "  res += n1\n",
        "  cont += 1\n",
        "\n",
        "print(f'A multiplicação de {n1} por {n2} é: {res}')\n"
      ],
      "metadata": {
        "id": "fE9TF8H81GcG",
        "outputId": "e3e5cbba-d433-4909-948d-71836285295c",
        "colab": {
          "base_uri": "https://localhost:8080/"
        }
      },
      "execution_count": null,
      "outputs": [
        {
          "output_type": "stream",
          "name": "stdout",
          "text": [
            "Digite o primeiro número: 8\n",
            "Digite o segundo número: 12\n",
            "A multiplicação de 8 por 12 é: 96\n"
          ]
        }
      ]
    },
    {
      "cell_type": "markdown",
      "source": [
        "## Questão 2\n",
        "Faça um programa que calcule a média de n números informados pelo usuário até ele informar o número 0. Por exemplo, se o usuário informar os números 9 6 2 8 0, o programa deve calcular a média (9+ 6 + 2 + 8) / 4.\n",
        "\n",
        "### Exemplo de execução\n",
        "Digite um número (0 para sair): 5<br/>\n",
        "Digite um número (0 para sair): 8<br/>\n",
        "Digite um número (0 para sair): 3<br/>\n",
        "Digite um número (0 para sair): 0<br/>\n",
        "A média dos números digitados é: 5.333333333333333"
      ],
      "metadata": {
        "id": "ct1vZdfYwJaW"
      }
    },
    {
      "cell_type": "code",
      "source": [
        "flag = True\n",
        "cont = 0\n",
        "res = 0\n",
        "\n",
        "while flag:\n",
        "  num = int(input('Digite um número (0 para sair): '))\n",
        "  if num == 0:\n",
        "    flag = False\n",
        "  else:\n",
        "    cont += 1\n",
        "    res += num\n",
        "\n",
        "res = res / cont\n",
        "\n",
        "print(f'A média dos números digitados é: {res}')"
      ],
      "metadata": {
        "id": "e92_CD_M1GF1",
        "outputId": "d10a1104-efe8-4d7a-9f0e-dce6fec80533",
        "colab": {
          "base_uri": "https://localhost:8080/"
        }
      },
      "execution_count": null,
      "outputs": [
        {
          "output_type": "stream",
          "name": "stdout",
          "text": [
            "Digite um número (0 para sair): 5\n",
            "Digite um número (0 para sair): 8\n",
            "Digite um número (0 para sair): 3\n",
            "Digite um número (0 para sair): 0\n",
            "A média dos números digitados é: 5.333333333333333\n"
          ]
        }
      ]
    },
    {
      "cell_type": "markdown",
      "source": [
        "## Questão 3\n",
        "\n",
        "Faça um programa que calcule o mínimo múltiplo comum (MMC) de dois inteiros.\n",
        "\n",
        "### Exemplo de execução 1:\n",
        "Digite o primeiro número: 8<br/>\n",
        "Digite o segundo número: 12<br/>\n",
        "O MMC de 8 e 12 é: 24\n",
        "\n",
        "### Exemplo de execução 2:\n",
        "Digite o primeiro número: 5<br/>\n",
        "Digite o segundo número: 7<br/>\n",
        "O MMC de 5 e 7 é: 35"
      ],
      "metadata": {
        "id": "mnpugrALwOSn"
      }
    },
    {
      "cell_type": "code",
      "source": [
        "flag = True\n",
        "\n",
        "n1 = int(input('Digite o primeiro número: '))\n",
        "n2 = int(input('Digite o segundo número: '))\n",
        "\n",
        "n1Mmc = n1\n",
        "n2Mmc = n2\n",
        "\n",
        "while flag:\n",
        "\n",
        "  if n1Mmc < n2Mmc:\n",
        "    n1Mmc += n1\n",
        "  elif n2Mmc < n1Mmc:\n",
        "    n2Mmc += n2\n",
        "  else:\n",
        "    flag = False\n",
        "\n",
        "print(f'O MMC de {n1} e {n2} é: {n1Mmc}')"
      ],
      "metadata": {
        "id": "sSTdhMkM1FxK",
        "outputId": "9e8835cc-2ca0-4c30-9fd2-9aafca543a1a",
        "colab": {
          "base_uri": "https://localhost:8080/"
        }
      },
      "execution_count": null,
      "outputs": [
        {
          "output_type": "stream",
          "name": "stdout",
          "text": [
            "Digite o primeiro número: 5\n",
            "Digite o segundo número: 7\n",
            "O MMC de 5 e 7 é: 35\n"
          ]
        }
      ]
    },
    {
      "cell_type": "markdown",
      "source": [
        "## Questão 4\n",
        "Para que serve o comando continue? Explique com suas palavras, e escreva um código que exemplifica sua explicação"
      ],
      "metadata": {
        "id": "p3gbRNKNwgHw"
      }
    },
    {
      "cell_type": "markdown",
      "source": [
        "Resposta:"
      ],
      "metadata": {
        "id": "M8l2Ku6YGrgk"
      }
    },
    {
      "cell_type": "code",
      "source": [
        "# O comando \"continue\" ignora todo o restante do código, voltando ao inicio da\n",
        "# estrutura de repetição.\n",
        "\n",
        "i = 0\n",
        "while i < 10:\n",
        "  i += 1\n",
        "  if i %2 == 0:\n",
        "    continue\n",
        "  print(f'Valor de I impar: {i}')\n"
      ],
      "metadata": {
        "id": "op_i7FwG1FTS",
        "outputId": "aaca0676-6b40-4aab-bef0-c363a0d33cf9",
        "colab": {
          "base_uri": "https://localhost:8080/"
        }
      },
      "execution_count": null,
      "outputs": [
        {
          "output_type": "stream",
          "name": "stdout",
          "text": [
            "Valor de I impar: 1\n",
            "Valor de I impar: 3\n",
            "Valor de I impar: 5\n",
            "Valor de I impar: 7\n",
            "Valor de I impar: 9\n"
          ]
        }
      ]
    },
    {
      "cell_type": "markdown",
      "source": [
        "## Questão 5\n",
        "Faça um programa que desenha um retângulo de altura \"a\" e largura \"l\" usando asteriscos. O usuário deve informar os valores de \"a\" e \"l\", que devem ser maiores que zero e tais que l > a. Note que o seu programa deve\n",
        "garantir que os valores digitados sejam válidos, forçando entradas válidas. O programa também deve perguntar se o usuário gostaria de gerar um retângulo antes de fazer cada impressão. O programa termina assim que o\n",
        "usuário responder \"n\" à pergunta.<br/>\n",
        "### Exemplo de execução:\n",
        "Informe se deseja imprimir um retângulo (s/n): s<br/>\n",
        "Informe a altura do retângulo: 10<br/>\n",
        "Informe a largura do retângulo: 8<br/>\n",
        "Entrada inválida.<br/>\n",
        "Informe a altura do retângulo: 10<br/>\n",
        "Informe a largura do retângulo: 20<br/>\n",
        "\\*\\*\\*\\*\\*\\*\\*\\*\\*\\*\\*\\*\\*\\*\\*\\*\\*\\*\\*\\*<br/>\n",
        "\\*\\*\\*\\*\\*\\*\\*\\*\\*\\*\\*\\*\\*\\*\\*\\*\\*\\*\\*\\*<br/>\n",
        "\\*\\*\\*\\*\\*\\*\\*\\*\\*\\*\\*\\*\\*\\*\\*\\*\\*\\*\\*\\*<br/>\n",
        "\\*\\*\\*\\*\\*\\*\\*\\*\\*\\*\\*\\*\\*\\*\\*\\*\\*\\*\\*\\*<br/>\n",
        "\\*\\*\\*\\*\\*\\*\\*\\*\\*\\*\\*\\*\\*\\*\\*\\*\\*\\*\\*\\*<br/>\n",
        "\\*\\*\\*\\*\\*\\*\\*\\*\\*\\*\\*\\*\\*\\*\\*\\*\\*\\*\\*\\*<br/>\n",
        "\\*\\*\\*\\*\\*\\*\\*\\*\\*\\*\\*\\*\\*\\*\\*\\*\\*\\*\\*\\*<br/>\n",
        "\\*\\*\\*\\*\\*\\*\\*\\*\\*\\*\\*\\*\\*\\*\\*\\*\\*\\*\\*\\*<br/>\n",
        "\\*\\*\\*\\*\\*\\*\\*\\*\\*\\*\\*\\*\\*\\*\\*\\*\\*\\*\\*\\*<br/>\n",
        "\\*\\*\\*\\*\\*\\*\\*\\*\\*\\*\\*\\*\\*\\*\\*\\*\\*\\*\\*\\*<br/>\n",
        "Informe se deseja imprimir outro retângulo (s/n): s<br/>\n",
        "Informe a altura do retângulo: 5<br/>\n",
        "Informe a largura do retângulo: 6<br/>\n",
        "\\*\\*\\*\\*\\*\\*<br/>\n",
        "\\*\\*\\*\\*\\*\\*<br/>\n",
        "\\*\\*\\*\\*\\*\\*<br/>\n",
        "\\*\\*\\*\\*\\*\\*<br/>\n",
        "\\*\\*\\*\\*\\*\\*<br/>\n",
        "Informe se deseja imprimir outro retângulo (s/n): n<br/>"
      ],
      "metadata": {
        "id": "bk_CG0DpxkJa"
      }
    },
    {
      "cell_type": "code",
      "source": [
        "flag = True\n",
        "\n",
        "while flag:\n",
        "  altura = int(input('Informe a altura do retângulo: '))\n",
        "  largura = int(input('Informe a largura do retângulo: '))\n",
        "\n",
        "  if altura < 0 or largura < 0 or largura < altura:\n",
        "    print('Entrada inválida. tente novamente.')\n",
        "    continue\n",
        "\n",
        "  for i in range(0, altura):\n",
        "    for j in range(0, largura):\n",
        "      print('*', end=\"\")\n",
        "    print('\\n')\n",
        "\n",
        "  entrada = input('Informe se deseja imprimir outro retângulo (s/n): ')\n",
        "  if entrada == 'n':\n",
        "    flag = False\n",
        "\n"
      ],
      "metadata": {
        "id": "996CAYaU1Eha",
        "outputId": "c896999c-b204-4311-abfb-8676547d3cea",
        "colab": {
          "base_uri": "https://localhost:8080/"
        }
      },
      "execution_count": null,
      "outputs": [
        {
          "name": "stdout",
          "output_type": "stream",
          "text": [
            "Informe a altura do retângulo: -2\n",
            "Informe a largura do retângulo: 3\n",
            "Entrada inválida. tente novamente.\n",
            "Informe a altura do retângulo: 2\n",
            "Informe a largura do retângulo: 4\n",
            "****\n",
            "\n",
            "****\n",
            "\n",
            "Informe se deseja imprimir outro retângulo (s/n): s\n",
            "Informe a altura do retângulo: 4\n",
            "Informe a largura do retângulo: 2\n",
            "Entrada inválida. tente novamente.\n",
            "Informe a altura do retângulo: 2\n",
            "Informe a largura do retângulo: 3\n",
            "***\n",
            "\n",
            "***\n",
            "\n",
            "Informe se deseja imprimir outro retângulo (s/n): n\n"
          ]
        }
      ]
    }
  ]
}